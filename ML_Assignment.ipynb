{
  "nbformat": 4,
  "nbformat_minor": 0,
  "metadata": {
    "colab": {
      "provenance": []
    },
    "kernelspec": {
      "name": "python3",
      "display_name": "Python 3"
    },
    "language_info": {
      "name": "python"
    }
  },
  "cells": [
    {
      "cell_type": "code",
      "execution_count": 20,
      "metadata": {
        "id": "2bdcd3d1"
      },
      "outputs": [],
      "source": [
        "import numpy as np\n",
        "import pandas as pd\n",
        "import missingno as msno\n",
        "import matplotlib.pyplot as plt\n",
        "import seaborn as sns\n",
        "from sklearn.preprocessing import LabelEncoder, OneHotEncoder\n",
        "from sklearn.model_selection import train_test_split\n",
        "from sklearn.linear_model import LinearRegression\n",
        "from sklearn.tree import DecisionTreeClassifier\n",
        "from sklearn.metrics import accuracy_score\n",
        "from sklearn import tree\n",
        "from sklearn.metrics import hamming_loss, accuracy_score, jaccard_score\n",
        "\n",
        "from sklearn.svm import SVC"
      ]
    },
    {
      "cell_type": "code",
      "source": [
        "dataset = pd.read_csv('/content/weatherAUS.csv')"
      ],
      "metadata": {
        "id": "o0coLgvZWMy_"
      },
      "execution_count": 21,
      "outputs": []
    },
    {
      "cell_type": "code",
      "source": [
        "df= pd.DataFrame(dataset)"
      ],
      "metadata": {
        "id": "qER0G5apWewi"
      },
      "execution_count": 22,
      "outputs": []
    },
    {
      "cell_type": "code",
      "source": [
        "df_main = df.copy()"
      ],
      "metadata": {
        "id": "fU2Mrnk3bJLi"
      },
      "execution_count": 29,
      "outputs": []
    },
    {
      "cell_type": "markdown",
      "source": [
        "# Handling Missing values"
      ],
      "metadata": {
        "id": "zMAUcM-vbV5E"
      }
    },
    {
      "cell_type": "code",
      "source": [
        "df.isnull().sum()"
      ],
      "metadata": {
        "colab": {
          "base_uri": "https://localhost:8080/"
        },
        "id": "zCnTZOQIbVJ8",
        "outputId": "5825eb75-53cc-4e3e-b894-6bf3d16a8ad2"
      },
      "execution_count": 30,
      "outputs": [
        {
          "output_type": "execute_result",
          "data": {
            "text/plain": [
              "Date                 0\n",
              "Location             0\n",
              "MinTemp           1485\n",
              "MaxTemp           1261\n",
              "Rainfall          3261\n",
              "Evaporation      62790\n",
              "Sunshine         69835\n",
              "WindGustDir      10326\n",
              "WindGustSpeed    10263\n",
              "WindDir9am       10566\n",
              "WindDir3pm        4228\n",
              "WindSpeed9am      1767\n",
              "WindSpeed3pm      3062\n",
              "Humidity9am       2654\n",
              "Humidity3pm       4507\n",
              "Pressure9am      15065\n",
              "Pressure3pm      15028\n",
              "Cloud9am         55888\n",
              "Cloud3pm         59358\n",
              "Temp9am           1767\n",
              "Temp3pm           3609\n",
              "RainToday         3261\n",
              "RainTomorrow      3267\n",
              "dtype: int64"
            ]
          },
          "metadata": {},
          "execution_count": 30
        }
      ]
    },
    {
      "cell_type": "code",
      "source": [
        "df.duplicated().sum()"
      ],
      "metadata": {
        "colab": {
          "base_uri": "https://localhost:8080/"
        },
        "id": "Yx7D4VJDbat4",
        "outputId": "bfedb9b2-a241-4ead-ea5b-a74f79f0cd73"
      },
      "execution_count": 31,
      "outputs": [
        {
          "output_type": "execute_result",
          "data": {
            "text/plain": [
              "0"
            ]
          },
          "metadata": {},
          "execution_count": 31
        }
      ]
    },
    {
      "cell_type": "code",
      "source": [
        "df.isna().sum()"
      ],
      "metadata": {
        "colab": {
          "base_uri": "https://localhost:8080/"
        },
        "id": "oMy4CYbIbRyQ",
        "outputId": "a141d470-4792-4b1c-9cd3-56e7f5a1a845"
      },
      "execution_count": 32,
      "outputs": [
        {
          "output_type": "execute_result",
          "data": {
            "text/plain": [
              "Date                 0\n",
              "Location             0\n",
              "MinTemp           1485\n",
              "MaxTemp           1261\n",
              "Rainfall          3261\n",
              "Evaporation      62790\n",
              "Sunshine         69835\n",
              "WindGustDir      10326\n",
              "WindGustSpeed    10263\n",
              "WindDir9am       10566\n",
              "WindDir3pm        4228\n",
              "WindSpeed9am      1767\n",
              "WindSpeed3pm      3062\n",
              "Humidity9am       2654\n",
              "Humidity3pm       4507\n",
              "Pressure9am      15065\n",
              "Pressure3pm      15028\n",
              "Cloud9am         55888\n",
              "Cloud3pm         59358\n",
              "Temp9am           1767\n",
              "Temp3pm           3609\n",
              "RainToday         3261\n",
              "RainTomorrow      3267\n",
              "dtype: int64"
            ]
          },
          "metadata": {},
          "execution_count": 32
        }
      ]
    },
    {
      "cell_type": "code",
      "source": [
        "df.duplicated().sum()"
      ],
      "metadata": {
        "colab": {
          "base_uri": "https://localhost:8080/"
        },
        "id": "ycuJKrHbbu-e",
        "outputId": "8440f60d-c650-40e7-9b6f-ba3403d58a94"
      },
      "execution_count": 34,
      "outputs": [
        {
          "output_type": "execute_result",
          "data": {
            "text/plain": [
              "0"
            ]
          },
          "metadata": {},
          "execution_count": 34
        }
      ]
    },
    {
      "cell_type": "code",
      "source": [
        "df = df.drop_duplicates()"
      ],
      "metadata": {
        "id": "rY-iLHLAb8pv"
      },
      "execution_count": 35,
      "outputs": []
    },
    {
      "cell_type": "code",
      "source": [
        "df = df.dropna()"
      ],
      "metadata": {
        "id": "0K5AZ4XKb5sv"
      },
      "execution_count": 37,
      "outputs": []
    },
    {
      "cell_type": "code",
      "source": [
        "df.isna().sum()"
      ],
      "metadata": {
        "colab": {
          "base_uri": "https://localhost:8080/"
        },
        "id": "yoUzf8SvcKV-",
        "outputId": "cd40775a-cc69-4ae4-afa8-b1ce42adba91"
      },
      "execution_count": 38,
      "outputs": [
        {
          "output_type": "execute_result",
          "data": {
            "text/plain": [
              "Date             0\n",
              "Location         0\n",
              "MinTemp          0\n",
              "MaxTemp          0\n",
              "Rainfall         0\n",
              "Evaporation      0\n",
              "Sunshine         0\n",
              "WindGustDir      0\n",
              "WindGustSpeed    0\n",
              "WindDir9am       0\n",
              "WindDir3pm       0\n",
              "WindSpeed9am     0\n",
              "WindSpeed3pm     0\n",
              "Humidity9am      0\n",
              "Humidity3pm      0\n",
              "Pressure9am      0\n",
              "Pressure3pm      0\n",
              "Cloud9am         0\n",
              "Cloud3pm         0\n",
              "Temp9am          0\n",
              "Temp3pm          0\n",
              "RainToday        0\n",
              "RainTomorrow     0\n",
              "dtype: int64"
            ]
          },
          "metadata": {},
          "execution_count": 38
        }
      ]
    },
    {
      "cell_type": "code",
      "source": [
        "df.isnull().mean() * 100"
      ],
      "metadata": {
        "colab": {
          "base_uri": "https://localhost:8080/"
        },
        "id": "s9wwsQzAcQ5I",
        "outputId": "0ef3670b-19da-4130-8482-497210949933"
      },
      "execution_count": 39,
      "outputs": [
        {
          "output_type": "execute_result",
          "data": {
            "text/plain": [
              "Date             0.0\n",
              "Location         0.0\n",
              "MinTemp          0.0\n",
              "MaxTemp          0.0\n",
              "Rainfall         0.0\n",
              "Evaporation      0.0\n",
              "Sunshine         0.0\n",
              "WindGustDir      0.0\n",
              "WindGustSpeed    0.0\n",
              "WindDir9am       0.0\n",
              "WindDir3pm       0.0\n",
              "WindSpeed9am     0.0\n",
              "WindSpeed3pm     0.0\n",
              "Humidity9am      0.0\n",
              "Humidity3pm      0.0\n",
              "Pressure9am      0.0\n",
              "Pressure3pm      0.0\n",
              "Cloud9am         0.0\n",
              "Cloud3pm         0.0\n",
              "Temp9am          0.0\n",
              "Temp3pm          0.0\n",
              "RainToday        0.0\n",
              "RainTomorrow     0.0\n",
              "dtype: float64"
            ]
          },
          "metadata": {},
          "execution_count": 39
        }
      ]
    },
    {
      "cell_type": "code",
      "source": [
        "#final shape after duplicate and nan values\n",
        "df.shape\n"
      ],
      "metadata": {
        "colab": {
          "base_uri": "https://localhost:8080/"
        },
        "id": "Zh2shz2pcXro",
        "outputId": "10119673-97df-4e46-8cfc-21a6d5baaa09"
      },
      "execution_count": 41,
      "outputs": [
        {
          "output_type": "execute_result",
          "data": {
            "text/plain": [
              "(56420, 23)"
            ]
          },
          "metadata": {},
          "execution_count": 41
        }
      ]
    },
    {
      "cell_type": "code",
      "source": [
        "df.describe()"
      ],
      "metadata": {
        "colab": {
          "base_uri": "https://localhost:8080/",
          "height": 320
        },
        "id": "1GezEJgvcjz0",
        "outputId": "3a8acca1-f056-41af-fce7-0ac76add9679"
      },
      "execution_count": 42,
      "outputs": [
        {
          "output_type": "execute_result",
          "data": {
            "text/plain": [
              "            MinTemp       MaxTemp      Rainfall   Evaporation      Sunshine  \\\n",
              "count  56420.000000  56420.000000  56420.000000  56420.000000  56420.000000   \n",
              "mean      13.464770     24.219206      2.130397      5.503135      7.735626   \n",
              "std        6.416689      6.970676      7.014822      3.696282      3.758153   \n",
              "min       -6.700000      4.100000      0.000000      0.000000      0.000000   \n",
              "25%        8.600000     18.700000      0.000000      2.800000      5.000000   \n",
              "50%       13.200000     23.900000      0.000000      5.000000      8.600000   \n",
              "75%       18.400000     29.700000      0.600000      7.400000     10.700000   \n",
              "max       31.400000     48.100000    206.200000     81.200000     14.500000   \n",
              "\n",
              "       WindGustSpeed  WindSpeed9am  WindSpeed3pm   Humidity9am   Humidity3pm  \\\n",
              "count   56420.000000  56420.000000  56420.000000  56420.000000  56420.000000   \n",
              "mean       40.877366     15.667228     19.786778     65.874123     49.601985   \n",
              "std        13.335232      8.317005      8.510180     18.513289     20.197040   \n",
              "min         9.000000      2.000000      2.000000      0.000000      0.000000   \n",
              "25%        31.000000      9.000000     13.000000     55.000000     35.000000   \n",
              "50%        39.000000     15.000000     19.000000     67.000000     50.000000   \n",
              "75%        48.000000     20.000000     26.000000     79.000000     63.000000   \n",
              "max       124.000000     67.000000     76.000000    100.000000    100.000000   \n",
              "\n",
              "        Pressure9am   Pressure3pm      Cloud9am      Cloud3pm       Temp9am  \\\n",
              "count  56420.000000  56420.000000  56420.000000  56420.000000  56420.000000   \n",
              "mean    1017.239505   1014.795580      4.241705      4.326515     18.204961   \n",
              "std        6.909357      6.870892      2.797162      2.647251      6.567991   \n",
              "min      980.500000    977.100000      0.000000      0.000000     -0.700000   \n",
              "25%     1012.700000   1010.100000      1.000000      2.000000     13.100000   \n",
              "50%     1017.200000   1014.700000      5.000000      5.000000     17.800000   \n",
              "75%     1021.800000   1019.400000      7.000000      7.000000     23.300000   \n",
              "max     1040.400000   1038.900000      8.000000      9.000000     39.400000   \n",
              "\n",
              "            Temp3pm  \n",
              "count  56420.000000  \n",
              "mean      22.710333  \n",
              "std        6.836543  \n",
              "min        3.700000  \n",
              "25%       17.400000  \n",
              "50%       22.400000  \n",
              "75%       27.900000  \n",
              "max       46.100000  "
            ],
            "text/html": [
              "\n",
              "  <div id=\"df-396c75ef-e9fc-424b-92b4-2c74f0b741d6\" class=\"colab-df-container\">\n",
              "    <div>\n",
              "<style scoped>\n",
              "    .dataframe tbody tr th:only-of-type {\n",
              "        vertical-align: middle;\n",
              "    }\n",
              "\n",
              "    .dataframe tbody tr th {\n",
              "        vertical-align: top;\n",
              "    }\n",
              "\n",
              "    .dataframe thead th {\n",
              "        text-align: right;\n",
              "    }\n",
              "</style>\n",
              "<table border=\"1\" class=\"dataframe\">\n",
              "  <thead>\n",
              "    <tr style=\"text-align: right;\">\n",
              "      <th></th>\n",
              "      <th>MinTemp</th>\n",
              "      <th>MaxTemp</th>\n",
              "      <th>Rainfall</th>\n",
              "      <th>Evaporation</th>\n",
              "      <th>Sunshine</th>\n",
              "      <th>WindGustSpeed</th>\n",
              "      <th>WindSpeed9am</th>\n",
              "      <th>WindSpeed3pm</th>\n",
              "      <th>Humidity9am</th>\n",
              "      <th>Humidity3pm</th>\n",
              "      <th>Pressure9am</th>\n",
              "      <th>Pressure3pm</th>\n",
              "      <th>Cloud9am</th>\n",
              "      <th>Cloud3pm</th>\n",
              "      <th>Temp9am</th>\n",
              "      <th>Temp3pm</th>\n",
              "    </tr>\n",
              "  </thead>\n",
              "  <tbody>\n",
              "    <tr>\n",
              "      <th>count</th>\n",
              "      <td>56420.000000</td>\n",
              "      <td>56420.000000</td>\n",
              "      <td>56420.000000</td>\n",
              "      <td>56420.000000</td>\n",
              "      <td>56420.000000</td>\n",
              "      <td>56420.000000</td>\n",
              "      <td>56420.000000</td>\n",
              "      <td>56420.000000</td>\n",
              "      <td>56420.000000</td>\n",
              "      <td>56420.000000</td>\n",
              "      <td>56420.000000</td>\n",
              "      <td>56420.000000</td>\n",
              "      <td>56420.000000</td>\n",
              "      <td>56420.000000</td>\n",
              "      <td>56420.000000</td>\n",
              "      <td>56420.000000</td>\n",
              "    </tr>\n",
              "    <tr>\n",
              "      <th>mean</th>\n",
              "      <td>13.464770</td>\n",
              "      <td>24.219206</td>\n",
              "      <td>2.130397</td>\n",
              "      <td>5.503135</td>\n",
              "      <td>7.735626</td>\n",
              "      <td>40.877366</td>\n",
              "      <td>15.667228</td>\n",
              "      <td>19.786778</td>\n",
              "      <td>65.874123</td>\n",
              "      <td>49.601985</td>\n",
              "      <td>1017.239505</td>\n",
              "      <td>1014.795580</td>\n",
              "      <td>4.241705</td>\n",
              "      <td>4.326515</td>\n",
              "      <td>18.204961</td>\n",
              "      <td>22.710333</td>\n",
              "    </tr>\n",
              "    <tr>\n",
              "      <th>std</th>\n",
              "      <td>6.416689</td>\n",
              "      <td>6.970676</td>\n",
              "      <td>7.014822</td>\n",
              "      <td>3.696282</td>\n",
              "      <td>3.758153</td>\n",
              "      <td>13.335232</td>\n",
              "      <td>8.317005</td>\n",
              "      <td>8.510180</td>\n",
              "      <td>18.513289</td>\n",
              "      <td>20.197040</td>\n",
              "      <td>6.909357</td>\n",
              "      <td>6.870892</td>\n",
              "      <td>2.797162</td>\n",
              "      <td>2.647251</td>\n",
              "      <td>6.567991</td>\n",
              "      <td>6.836543</td>\n",
              "    </tr>\n",
              "    <tr>\n",
              "      <th>min</th>\n",
              "      <td>-6.700000</td>\n",
              "      <td>4.100000</td>\n",
              "      <td>0.000000</td>\n",
              "      <td>0.000000</td>\n",
              "      <td>0.000000</td>\n",
              "      <td>9.000000</td>\n",
              "      <td>2.000000</td>\n",
              "      <td>2.000000</td>\n",
              "      <td>0.000000</td>\n",
              "      <td>0.000000</td>\n",
              "      <td>980.500000</td>\n",
              "      <td>977.100000</td>\n",
              "      <td>0.000000</td>\n",
              "      <td>0.000000</td>\n",
              "      <td>-0.700000</td>\n",
              "      <td>3.700000</td>\n",
              "    </tr>\n",
              "    <tr>\n",
              "      <th>25%</th>\n",
              "      <td>8.600000</td>\n",
              "      <td>18.700000</td>\n",
              "      <td>0.000000</td>\n",
              "      <td>2.800000</td>\n",
              "      <td>5.000000</td>\n",
              "      <td>31.000000</td>\n",
              "      <td>9.000000</td>\n",
              "      <td>13.000000</td>\n",
              "      <td>55.000000</td>\n",
              "      <td>35.000000</td>\n",
              "      <td>1012.700000</td>\n",
              "      <td>1010.100000</td>\n",
              "      <td>1.000000</td>\n",
              "      <td>2.000000</td>\n",
              "      <td>13.100000</td>\n",
              "      <td>17.400000</td>\n",
              "    </tr>\n",
              "    <tr>\n",
              "      <th>50%</th>\n",
              "      <td>13.200000</td>\n",
              "      <td>23.900000</td>\n",
              "      <td>0.000000</td>\n",
              "      <td>5.000000</td>\n",
              "      <td>8.600000</td>\n",
              "      <td>39.000000</td>\n",
              "      <td>15.000000</td>\n",
              "      <td>19.000000</td>\n",
              "      <td>67.000000</td>\n",
              "      <td>50.000000</td>\n",
              "      <td>1017.200000</td>\n",
              "      <td>1014.700000</td>\n",
              "      <td>5.000000</td>\n",
              "      <td>5.000000</td>\n",
              "      <td>17.800000</td>\n",
              "      <td>22.400000</td>\n",
              "    </tr>\n",
              "    <tr>\n",
              "      <th>75%</th>\n",
              "      <td>18.400000</td>\n",
              "      <td>29.700000</td>\n",
              "      <td>0.600000</td>\n",
              "      <td>7.400000</td>\n",
              "      <td>10.700000</td>\n",
              "      <td>48.000000</td>\n",
              "      <td>20.000000</td>\n",
              "      <td>26.000000</td>\n",
              "      <td>79.000000</td>\n",
              "      <td>63.000000</td>\n",
              "      <td>1021.800000</td>\n",
              "      <td>1019.400000</td>\n",
              "      <td>7.000000</td>\n",
              "      <td>7.000000</td>\n",
              "      <td>23.300000</td>\n",
              "      <td>27.900000</td>\n",
              "    </tr>\n",
              "    <tr>\n",
              "      <th>max</th>\n",
              "      <td>31.400000</td>\n",
              "      <td>48.100000</td>\n",
              "      <td>206.200000</td>\n",
              "      <td>81.200000</td>\n",
              "      <td>14.500000</td>\n",
              "      <td>124.000000</td>\n",
              "      <td>67.000000</td>\n",
              "      <td>76.000000</td>\n",
              "      <td>100.000000</td>\n",
              "      <td>100.000000</td>\n",
              "      <td>1040.400000</td>\n",
              "      <td>1038.900000</td>\n",
              "      <td>8.000000</td>\n",
              "      <td>9.000000</td>\n",
              "      <td>39.400000</td>\n",
              "      <td>46.100000</td>\n",
              "    </tr>\n",
              "  </tbody>\n",
              "</table>\n",
              "</div>\n",
              "    <div class=\"colab-df-buttons\">\n",
              "\n",
              "  <div class=\"colab-df-container\">\n",
              "    <button class=\"colab-df-convert\" onclick=\"convertToInteractive('df-396c75ef-e9fc-424b-92b4-2c74f0b741d6')\"\n",
              "            title=\"Convert this dataframe to an interactive table.\"\n",
              "            style=\"display:none;\">\n",
              "\n",
              "  <svg xmlns=\"http://www.w3.org/2000/svg\" height=\"24px\" viewBox=\"0 -960 960 960\">\n",
              "    <path d=\"M120-120v-720h720v720H120Zm60-500h600v-160H180v160Zm220 220h160v-160H400v160Zm0 220h160v-160H400v160ZM180-400h160v-160H180v160Zm440 0h160v-160H620v160ZM180-180h160v-160H180v160Zm440 0h160v-160H620v160Z\"/>\n",
              "  </svg>\n",
              "    </button>\n",
              "\n",
              "  <style>\n",
              "    .colab-df-container {\n",
              "      display:flex;\n",
              "      gap: 12px;\n",
              "    }\n",
              "\n",
              "    .colab-df-convert {\n",
              "      background-color: #E8F0FE;\n",
              "      border: none;\n",
              "      border-radius: 50%;\n",
              "      cursor: pointer;\n",
              "      display: none;\n",
              "      fill: #1967D2;\n",
              "      height: 32px;\n",
              "      padding: 0 0 0 0;\n",
              "      width: 32px;\n",
              "    }\n",
              "\n",
              "    .colab-df-convert:hover {\n",
              "      background-color: #E2EBFA;\n",
              "      box-shadow: 0px 1px 2px rgba(60, 64, 67, 0.3), 0px 1px 3px 1px rgba(60, 64, 67, 0.15);\n",
              "      fill: #174EA6;\n",
              "    }\n",
              "\n",
              "    .colab-df-buttons div {\n",
              "      margin-bottom: 4px;\n",
              "    }\n",
              "\n",
              "    [theme=dark] .colab-df-convert {\n",
              "      background-color: #3B4455;\n",
              "      fill: #D2E3FC;\n",
              "    }\n",
              "\n",
              "    [theme=dark] .colab-df-convert:hover {\n",
              "      background-color: #434B5C;\n",
              "      box-shadow: 0px 1px 3px 1px rgba(0, 0, 0, 0.15);\n",
              "      filter: drop-shadow(0px 1px 2px rgba(0, 0, 0, 0.3));\n",
              "      fill: #FFFFFF;\n",
              "    }\n",
              "  </style>\n",
              "\n",
              "    <script>\n",
              "      const buttonEl =\n",
              "        document.querySelector('#df-396c75ef-e9fc-424b-92b4-2c74f0b741d6 button.colab-df-convert');\n",
              "      buttonEl.style.display =\n",
              "        google.colab.kernel.accessAllowed ? 'block' : 'none';\n",
              "\n",
              "      async function convertToInteractive(key) {\n",
              "        const element = document.querySelector('#df-396c75ef-e9fc-424b-92b4-2c74f0b741d6');\n",
              "        const dataTable =\n",
              "          await google.colab.kernel.invokeFunction('convertToInteractive',\n",
              "                                                    [key], {});\n",
              "        if (!dataTable) return;\n",
              "\n",
              "        const docLinkHtml = 'Like what you see? Visit the ' +\n",
              "          '<a target=\"_blank\" href=https://colab.research.google.com/notebooks/data_table.ipynb>data table notebook</a>'\n",
              "          + ' to learn more about interactive tables.';\n",
              "        element.innerHTML = '';\n",
              "        dataTable['output_type'] = 'display_data';\n",
              "        await google.colab.output.renderOutput(dataTable, element);\n",
              "        const docLink = document.createElement('div');\n",
              "        docLink.innerHTML = docLinkHtml;\n",
              "        element.appendChild(docLink);\n",
              "      }\n",
              "    </script>\n",
              "  </div>\n",
              "\n",
              "\n",
              "<div id=\"df-a9d6cbdd-b11c-40da-a3f9-47314649ca2f\">\n",
              "  <button class=\"colab-df-quickchart\" onclick=\"quickchart('df-a9d6cbdd-b11c-40da-a3f9-47314649ca2f')\"\n",
              "            title=\"Suggest charts\"\n",
              "            style=\"display:none;\">\n",
              "\n",
              "<svg xmlns=\"http://www.w3.org/2000/svg\" height=\"24px\"viewBox=\"0 0 24 24\"\n",
              "     width=\"24px\">\n",
              "    <g>\n",
              "        <path d=\"M19 3H5c-1.1 0-2 .9-2 2v14c0 1.1.9 2 2 2h14c1.1 0 2-.9 2-2V5c0-1.1-.9-2-2-2zM9 17H7v-7h2v7zm4 0h-2V7h2v10zm4 0h-2v-4h2v4z\"/>\n",
              "    </g>\n",
              "</svg>\n",
              "  </button>\n",
              "\n",
              "<style>\n",
              "  .colab-df-quickchart {\n",
              "      --bg-color: #E8F0FE;\n",
              "      --fill-color: #1967D2;\n",
              "      --hover-bg-color: #E2EBFA;\n",
              "      --hover-fill-color: #174EA6;\n",
              "      --disabled-fill-color: #AAA;\n",
              "      --disabled-bg-color: #DDD;\n",
              "  }\n",
              "\n",
              "  [theme=dark] .colab-df-quickchart {\n",
              "      --bg-color: #3B4455;\n",
              "      --fill-color: #D2E3FC;\n",
              "      --hover-bg-color: #434B5C;\n",
              "      --hover-fill-color: #FFFFFF;\n",
              "      --disabled-bg-color: #3B4455;\n",
              "      --disabled-fill-color: #666;\n",
              "  }\n",
              "\n",
              "  .colab-df-quickchart {\n",
              "    background-color: var(--bg-color);\n",
              "    border: none;\n",
              "    border-radius: 50%;\n",
              "    cursor: pointer;\n",
              "    display: none;\n",
              "    fill: var(--fill-color);\n",
              "    height: 32px;\n",
              "    padding: 0;\n",
              "    width: 32px;\n",
              "  }\n",
              "\n",
              "  .colab-df-quickchart:hover {\n",
              "    background-color: var(--hover-bg-color);\n",
              "    box-shadow: 0 1px 2px rgba(60, 64, 67, 0.3), 0 1px 3px 1px rgba(60, 64, 67, 0.15);\n",
              "    fill: var(--button-hover-fill-color);\n",
              "  }\n",
              "\n",
              "  .colab-df-quickchart-complete:disabled,\n",
              "  .colab-df-quickchart-complete:disabled:hover {\n",
              "    background-color: var(--disabled-bg-color);\n",
              "    fill: var(--disabled-fill-color);\n",
              "    box-shadow: none;\n",
              "  }\n",
              "\n",
              "  .colab-df-spinner {\n",
              "    border: 2px solid var(--fill-color);\n",
              "    border-color: transparent;\n",
              "    border-bottom-color: var(--fill-color);\n",
              "    animation:\n",
              "      spin 1s steps(1) infinite;\n",
              "  }\n",
              "\n",
              "  @keyframes spin {\n",
              "    0% {\n",
              "      border-color: transparent;\n",
              "      border-bottom-color: var(--fill-color);\n",
              "      border-left-color: var(--fill-color);\n",
              "    }\n",
              "    20% {\n",
              "      border-color: transparent;\n",
              "      border-left-color: var(--fill-color);\n",
              "      border-top-color: var(--fill-color);\n",
              "    }\n",
              "    30% {\n",
              "      border-color: transparent;\n",
              "      border-left-color: var(--fill-color);\n",
              "      border-top-color: var(--fill-color);\n",
              "      border-right-color: var(--fill-color);\n",
              "    }\n",
              "    40% {\n",
              "      border-color: transparent;\n",
              "      border-right-color: var(--fill-color);\n",
              "      border-top-color: var(--fill-color);\n",
              "    }\n",
              "    60% {\n",
              "      border-color: transparent;\n",
              "      border-right-color: var(--fill-color);\n",
              "    }\n",
              "    80% {\n",
              "      border-color: transparent;\n",
              "      border-right-color: var(--fill-color);\n",
              "      border-bottom-color: var(--fill-color);\n",
              "    }\n",
              "    90% {\n",
              "      border-color: transparent;\n",
              "      border-bottom-color: var(--fill-color);\n",
              "    }\n",
              "  }\n",
              "</style>\n",
              "\n",
              "  <script>\n",
              "    async function quickchart(key) {\n",
              "      const quickchartButtonEl =\n",
              "        document.querySelector('#' + key + ' button');\n",
              "      quickchartButtonEl.disabled = true;  // To prevent multiple clicks.\n",
              "      quickchartButtonEl.classList.add('colab-df-spinner');\n",
              "      try {\n",
              "        const charts = await google.colab.kernel.invokeFunction(\n",
              "            'suggestCharts', [key], {});\n",
              "      } catch (error) {\n",
              "        console.error('Error during call to suggestCharts:', error);\n",
              "      }\n",
              "      quickchartButtonEl.classList.remove('colab-df-spinner');\n",
              "      quickchartButtonEl.classList.add('colab-df-quickchart-complete');\n",
              "    }\n",
              "    (() => {\n",
              "      let quickchartButtonEl =\n",
              "        document.querySelector('#df-a9d6cbdd-b11c-40da-a3f9-47314649ca2f button');\n",
              "      quickchartButtonEl.style.display =\n",
              "        google.colab.kernel.accessAllowed ? 'block' : 'none';\n",
              "    })();\n",
              "  </script>\n",
              "</div>\n",
              "    </div>\n",
              "  </div>\n"
            ],
            "application/vnd.google.colaboratory.intrinsic+json": {
              "type": "dataframe",
              "summary": "{\n  \"name\": \"df\",\n  \"rows\": 8,\n  \"fields\": [\n    {\n      \"column\": \"MinTemp\",\n      \"properties\": {\n        \"dtype\": \"number\",\n        \"std\": 19943.20309968355,\n        \"min\": -6.7,\n        \"max\": 56420.0,\n        \"num_unique_values\": 8,\n        \"samples\": [\n          13.464769585253457,\n          13.2,\n          56420.0\n        ],\n        \"semantic_type\": \"\",\n        \"description\": \"\"\n      }\n    },\n    {\n      \"column\": \"MaxTemp\",\n      \"properties\": {\n        \"dtype\": \"number\",\n        \"std\": 19939.62344845198,\n        \"min\": 4.1,\n        \"max\": 56420.0,\n        \"num_unique_values\": 8,\n        \"samples\": [\n          24.219205955334985,\n          23.9,\n          56420.0\n        ],\n        \"semantic_type\": \"\",\n        \"description\": \"\"\n      }\n    },\n    {\n      \"column\": \"Rainfall\",\n      \"properties\": {\n        \"dtype\": \"number\",\n        \"std\": 19936.70407703405,\n        \"min\": 0.0,\n        \"max\": 56420.0,\n        \"num_unique_values\": 6,\n        \"samples\": [\n          56420.0,\n          2.1303970223325064,\n          206.2\n        ],\n        \"semantic_type\": \"\",\n        \"description\": \"\"\n      }\n    },\n    {\n      \"column\": \"Evaporation\",\n      \"properties\": {\n        \"dtype\": \"number\",\n        \"std\": 19942.167102814205,\n        \"min\": 0.0,\n        \"max\": 56420.0,\n        \"num_unique_values\": 8,\n        \"samples\": [\n          5.503135412974123,\n          5.0,\n          56420.0\n        ],\n        \"semantic_type\": \"\",\n        \"description\": \"\"\n      }\n    },\n    {\n      \"column\": \"Sunshine\",\n      \"properties\": {\n        \"dtype\": \"number\",\n        \"std\": 19944.94256600289,\n        \"min\": 0.0,\n        \"max\": 56420.0,\n        \"num_unique_values\": 8,\n        \"samples\": [\n          7.735625664657924,\n          8.6,\n          56420.0\n        ],\n        \"semantic_type\": \"\",\n        \"description\": \"\"\n      }\n    },\n    {\n      \"column\": \"WindGustSpeed\",\n      \"properties\": {\n        \"dtype\": \"number\",\n        \"std\": 19932.09821137581,\n        \"min\": 9.0,\n        \"max\": 56420.0,\n        \"num_unique_values\": 8,\n        \"samples\": [\n          40.877366182204895,\n          39.0,\n          56420.0\n        ],\n        \"semantic_type\": \"\",\n        \"description\": \"\"\n      }\n    },\n    {\n      \"column\": \"WindSpeed9am\",\n      \"properties\": {\n        \"dtype\": \"number\",\n        \"std\": 19940.5736965982,\n        \"min\": 2.0,\n        \"max\": 56420.0,\n        \"num_unique_values\": 8,\n        \"samples\": [\n          15.667227933356966,\n          15.0,\n          56420.0\n        ],\n        \"semantic_type\": \"\",\n        \"description\": \"\"\n      }\n    },\n    {\n      \"column\": \"WindSpeed3pm\",\n      \"properties\": {\n        \"dtype\": \"number\",\n        \"std\": 19939.196921633215,\n        \"min\": 2.0,\n        \"max\": 56420.0,\n        \"num_unique_values\": 8,\n        \"samples\": [\n          19.78677773839064,\n          19.0,\n          56420.0\n        ],\n        \"semantic_type\": \"\",\n        \"description\": \"\"\n      }\n    },\n    {\n      \"column\": \"Humidity9am\",\n      \"properties\": {\n        \"dtype\": \"number\",\n        \"std\": 19928.04317060037,\n        \"min\": 0.0,\n        \"max\": 56420.0,\n        \"num_unique_values\": 8,\n        \"samples\": [\n          65.87412265154201,\n          67.0,\n          56420.0\n        ],\n        \"semantic_type\": \"\",\n        \"description\": \"\"\n      }\n    },\n    {\n      \"column\": \"Humidity3pm\",\n      \"properties\": {\n        \"dtype\": \"number\",\n        \"std\": 19931.45300596258,\n        \"min\": 0.0,\n        \"max\": 56420.0,\n        \"num_unique_values\": 8,\n        \"samples\": [\n          49.60198511166253,\n          50.0,\n          56420.0\n        ],\n        \"semantic_type\": \"\",\n        \"description\": \"\"\n      }\n    },\n    {\n      \"column\": \"Pressure9am\",\n      \"properties\": {\n        \"dtype\": \"number\",\n        \"std\": 19642.724508042866,\n        \"min\": 6.9093567856439275,\n        \"max\": 56420.0,\n        \"num_unique_values\": 8,\n        \"samples\": [\n          1017.2395054945055,\n          1017.2,\n          56420.0\n        ],\n        \"semantic_type\": \"\",\n        \"description\": \"\"\n      }\n    },\n    {\n      \"column\": \"Pressure3pm\",\n      \"properties\": {\n        \"dtype\": \"number\",\n        \"std\": 19643.461199626,\n        \"min\": 6.870891684997891,\n        \"max\": 56420.0,\n        \"num_unique_values\": 8,\n        \"samples\": [\n          1014.7955795817085,\n          1014.7,\n          56420.0\n        ],\n        \"semantic_type\": \"\",\n        \"description\": \"\"\n      }\n    },\n    {\n      \"column\": \"Cloud9am\",\n      \"properties\": {\n        \"dtype\": \"number\",\n        \"std\": 19946.06630863417,\n        \"min\": 0.0,\n        \"max\": 56420.0,\n        \"num_unique_values\": 8,\n        \"samples\": [\n          4.241705069124424,\n          5.0,\n          56420.0\n        ],\n        \"semantic_type\": \"\",\n        \"description\": \"\"\n      }\n    },\n    {\n      \"column\": \"Cloud3pm\",\n      \"properties\": {\n        \"dtype\": \"number\",\n        \"std\": 19945.968595339462,\n        \"min\": 0.0,\n        \"max\": 56420.0,\n        \"num_unique_values\": 8,\n        \"samples\": [\n          4.326515420063807,\n          5.0,\n          56420.0\n        ],\n        \"semantic_type\": \"\",\n        \"description\": \"\"\n      }\n    },\n    {\n      \"column\": \"Temp9am\",\n      \"properties\": {\n        \"dtype\": \"number\",\n        \"std\": 19941.54242813757,\n        \"min\": -0.7,\n        \"max\": 56420.0,\n        \"num_unique_values\": 8,\n        \"samples\": [\n          18.2049610067352,\n          17.8,\n          56420.0\n        ],\n        \"semantic_type\": \"\",\n        \"description\": \"\"\n      }\n    },\n    {\n      \"column\": \"Temp3pm\",\n      \"properties\": {\n        \"dtype\": \"number\",\n        \"std\": 19940.059590428715,\n        \"min\": 3.7,\n        \"max\": 56420.0,\n        \"num_unique_values\": 8,\n        \"samples\": [\n          22.710333215171925,\n          22.4,\n          56420.0\n        ],\n        \"semantic_type\": \"\",\n        \"description\": \"\"\n      }\n    }\n  ]\n}"
            }
          },
          "metadata": {},
          "execution_count": 42
        }
      ]
    },
    {
      "cell_type": "code",
      "source": [
        "df['Date']  #we need to convert it to datetime\n",
        "\n",
        "df['Date'] = pd.to_datetime(df['Date'])\n",
        "df['Year'] = df['Date'].dt.year\n",
        "df['Month'] = df['Date'].dt.month\n",
        "df['Day'] = df['Date'].dt.day"
      ],
      "metadata": {
        "id": "-K3lD-Mscq17"
      },
      "execution_count": 45,
      "outputs": []
    },
    {
      "cell_type": "code",
      "source": [
        "df.dtypes                                 #new created columns would be int32"
      ],
      "metadata": {
        "colab": {
          "base_uri": "https://localhost:8080/"
        },
        "id": "5GgZ89d8cvli",
        "outputId": "5dc0ce01-9c9c-4b18-ccd6-fea10e316eee"
      },
      "execution_count": 47,
      "outputs": [
        {
          "output_type": "execute_result",
          "data": {
            "text/plain": [
              "Date             datetime64[ns]\n",
              "Location                 object\n",
              "MinTemp                 float64\n",
              "MaxTemp                 float64\n",
              "Rainfall                float64\n",
              "Evaporation             float64\n",
              "Sunshine                float64\n",
              "WindGustDir              object\n",
              "WindGustSpeed           float64\n",
              "WindDir9am               object\n",
              "WindDir3pm               object\n",
              "WindSpeed9am            float64\n",
              "WindSpeed3pm            float64\n",
              "Humidity9am             float64\n",
              "Humidity3pm             float64\n",
              "Pressure9am             float64\n",
              "Pressure3pm             float64\n",
              "Cloud9am                float64\n",
              "Cloud3pm                float64\n",
              "Temp9am                 float64\n",
              "Temp3pm                 float64\n",
              "RainToday                object\n",
              "RainTomorrow             object\n",
              "Year                      int32\n",
              "Month                     int32\n",
              "Day                       int32\n",
              "dtype: object"
            ]
          },
          "metadata": {},
          "execution_count": 47
        }
      ]
    },
    {
      "cell_type": "code",
      "source": [
        "#final shape after adding new features\n",
        "df.shape"
      ],
      "metadata": {
        "colab": {
          "base_uri": "https://localhost:8080/"
        },
        "id": "m2ilYz0GgdRZ",
        "outputId": "db6d3481-cfa3-432f-8d89-c9501ace3496"
      },
      "execution_count": 65,
      "outputs": [
        {
          "output_type": "execute_result",
          "data": {
            "text/plain": [
              "(56420, 30)"
            ]
          },
          "metadata": {},
          "execution_count": 65
        }
      ]
    },
    {
      "cell_type": "markdown",
      "source": [
        "# Outliers"
      ],
      "metadata": {
        "id": "mo8AQofadIry"
      }
    },
    {
      "cell_type": "code",
      "source": [
        "\n",
        "\n",
        "# numerical columns for outlier detection\n",
        "numerical_columns = ['MinTemp', 'MaxTemp', 'Rainfall', 'Evaporation', 'Sunshine',\n",
        "                     'WindGustSpeed', 'WindSpeed9am', 'WindSpeed3pm', 'Humidity9am',\n",
        "                     'Humidity3pm', 'Pressure9am', 'Pressure3pm', 'Cloud9am', 'Cloud3pm',\n",
        "                     'Temp9am', 'Temp3pm']\n",
        "\n",
        "# Calculate Z-scores for numerical columns\n",
        "z_scores = df[numerical_columns].apply(lambda x: np.abs((x - x.mean()) / x.std()))\n",
        "\n",
        "#  threshold for outliers\n",
        "threshold = 3\n",
        "\n",
        "# outliers for each column\n",
        "outliers_by_column = z_scores > threshold\n",
        "\n",
        "# count outliers in each column\n",
        "num_outliers_by_column = outliers_by_column.sum()\n",
        "\n",
        "# Print columns with outliers and the number of outliers in each column\n",
        "print(\"Columns with outliers:\")\n",
        "for col, num_outliers in num_outliers_by_column.items():\n",
        "    if num_outliers > 0:\n",
        "        print(f\"{col}: {num_outliers} outliers\")\n"
      ],
      "metadata": {
        "colab": {
          "base_uri": "https://localhost:8080/"
        },
        "id": "2u_X6X-EdHKO",
        "outputId": "51dfeafc-be54-4db0-abdd-8b511739c8cc"
      },
      "execution_count": 66,
      "outputs": [
        {
          "output_type": "stream",
          "name": "stdout",
          "text": [
            "Columns with outliers:\n",
            "MinTemp: 2 outliers\n",
            "MaxTemp: 17 outliers\n",
            "Rainfall: 1162 outliers\n",
            "Evaporation: 495 outliers\n",
            "WindGustSpeed: 636 outliers\n",
            "WindSpeed9am: 629 outliers\n",
            "WindSpeed3pm: 377 outliers\n",
            "Humidity9am: 217 outliers\n",
            "Pressure9am: 234 outliers\n",
            "Pressure3pm: 213 outliers\n",
            "Temp9am: 5 outliers\n",
            "Temp3pm: 24 outliers\n"
          ]
        }
      ]
    },
    {
      "cell_type": "code",
      "source": [
        " from scipy.stats.mstats import winsorize\n",
        "\n",
        "# Apply winsorization to 'Rainfall' column\n",
        "df['Rainfall_winsorized'] = winsorize(df['Rainfall'], limits=[0.05, 0.05])\n",
        "\n",
        " # Compare the number of outliers before and after winsorization\n",
        "outliers_before = df['Rainfall'].size - df['Rainfall'].between(df['Rainfall'].quantile(0.05), df['Rainfall'].quantile(0.95)).sum()\n",
        "outliers_after = df['Rainfall_winsorized'].size - df['Rainfall_winsorized'].between(df['Rainfall_winsorized'].quantile(0.05), df['Rainfall_winsorized'].quantile(0.95)).sum()\n",
        "\n",
        "print(\"Number of outliers before winsorization:\", outliers_before)\n",
        "print(\"Number of outliers after winsorization:\", outliers_after)\n"
      ],
      "metadata": {
        "colab": {
          "base_uri": "https://localhost:8080/"
        },
        "id": "HJuDMZqmdWMn",
        "outputId": "53ebb121-958c-4f7c-e414-252210f55849"
      },
      "execution_count": 49,
      "outputs": [
        {
          "output_type": "stream",
          "name": "stdout",
          "text": [
            "Number of outliers before winsorization: 2798\n",
            "Number of outliers after winsorization: 0\n"
          ]
        },
        {
          "output_type": "stream",
          "name": "stderr",
          "text": [
            "/usr/local/lib/python3.10/dist-packages/numpy/lib/function_base.py:4823: UserWarning: Warning: 'partition' will ignore the 'mask' of the MaskedArray.\n",
            "  arr.partition(\n",
            "/usr/local/lib/python3.10/dist-packages/numpy/lib/function_base.py:4823: UserWarning: Warning: 'partition' will ignore the 'mask' of the MaskedArray.\n",
            "  arr.partition(\n"
          ]
        }
      ]
    },
    {
      "cell_type": "markdown",
      "source": [
        "# Feature engineering"
      ],
      "metadata": {
        "id": "_V0mWqLGdl0W"
      }
    },
    {
      "cell_type": "code",
      "source": [
        "#creating new columns to determine temperature, humidity and pressure changes\n",
        "df['TempChange'] = df['Temp3pm'] - df['Temp9am']\n",
        "df['HumidityChange'] = df['Humidity3pm'] - df['Humidity9am']\n",
        "df['PressureChange'] = df['Pressure3pm'] - df['Pressure9am']"
      ],
      "metadata": {
        "id": "BQLKHe02dimo"
      },
      "execution_count": 51,
      "outputs": []
    },
    {
      "cell_type": "code",
      "source": [
        "X = df.drop(columns=['RainToday', 'RainTomorrow','Date','Temp3pm','Temp9am','Humidity3pm','Humidity9am','Pressure3pm','Pressure9am']).values\n",
        "Y = df[['RainToday', 'RainTomorrow']].values"
      ],
      "metadata": {
        "id": "F5Kz2hIsd229"
      },
      "execution_count": 52,
      "outputs": []
    },
    {
      "cell_type": "code",
      "source": [
        "print(X[:, [0, 6, 8, 9]])\n",
        "print(Y)"
      ],
      "metadata": {
        "colab": {
          "base_uri": "https://localhost:8080/"
        },
        "id": "KubXghYoeEBi",
        "outputId": "a8900351-bd17-4034-c4d0-9047526a8882"
      },
      "execution_count": 53,
      "outputs": [
        {
          "output_type": "stream",
          "name": "stdout",
          "text": [
            "[['Cobar' 'SSW' 'ENE' 'SW']\n",
            " ['Cobar' 'S' 'SSE' 'SSE']\n",
            " ['Cobar' 'NNE' 'NNE' 'NNW']\n",
            " ...\n",
            " ['Darwin' 'E' 'E' 'W']\n",
            " ['Darwin' 'ESE' 'SE' 'NNW']\n",
            " ['Darwin' 'ENE' 'ENE' 'NNW']]\n",
            "[['No' 'No']\n",
            " ['No' 'No']\n",
            " ['No' 'No']\n",
            " ...\n",
            " ['No' 'No']\n",
            " ['No' 'No']\n",
            " ['No' 'No']]\n"
          ]
        }
      ]
    },
    {
      "cell_type": "code",
      "source": [
        "# Apply label encoding to the selected columns\n",
        "label_encoder = LabelEncoder()\n",
        "X[:, 0] = label_encoder.fit_transform(X[:, 0])\n",
        "X[:, 6] = label_encoder.fit_transform(X[:, 6])\n",
        "X[:, 8] = label_encoder.fit_transform(X[:, 8])\n",
        "X[:, 9] = label_encoder.fit_transform(X[:, 9])\n",
        "print(X[:, [0, 6, 8, 9]])\n",
        "# Apply one-hot encoding to the label-encoded columns\n",
        "onehot_encoder = OneHotEncoder(categories='auto', sparse_output=False)\n",
        "X_encoded = onehot_encoder.fit_transform(X[:, [0, 6, 8, 9]])\n",
        "print(X_encoded)\n",
        "# Replace the original columns with the one-hot encoded columns\n",
        "X = np.delete(X, [0, 6, 8, 9], axis=1)\n",
        "X = np.concatenate((X, X_encoded), axis=1)\n",
        "print(X)"
      ],
      "metadata": {
        "colab": {
          "base_uri": "https://localhost:8080/"
        },
        "id": "DJwJB7DBeOrq",
        "outputId": "bc0e479e-5fe7-4bec-e2f6-e68a582d5cc5"
      },
      "execution_count": 54,
      "outputs": [
        {
          "output_type": "stream",
          "name": "stdout",
          "text": [
            "[[4 11 1 12]\n",
            " [4 8 10 10]\n",
            " [4 5 5 6]\n",
            " ...\n",
            " [6 0 0 13]\n",
            " [6 2 9 6]\n",
            " [6 1 1 6]]\n",
            "[[0. 0. 0. ... 0. 0. 0.]\n",
            " [0. 0. 0. ... 0. 0. 0.]\n",
            " [0. 0. 0. ... 0. 0. 0.]\n",
            " ...\n",
            " [0. 0. 0. ... 1. 0. 0.]\n",
            " [0. 0. 0. ... 0. 0. 0.]\n",
            " [0. 0. 0. ... 0. 0. 0.]]\n",
            "[[17.9 35.2 0.0 ... 0.0 0.0 0.0]\n",
            " [18.4 28.9 0.0 ... 0.0 0.0 0.0]\n",
            " [19.4 37.6 0.0 ... 0.0 0.0 0.0]\n",
            " ...\n",
            " [20.7 32.8 0.0 ... 1.0 0.0 0.0]\n",
            " [19.5 31.8 0.0 ... 0.0 0.0 0.0]\n",
            " [20.2 31.7 0.0 ... 0.0 0.0 0.0]]\n"
          ]
        }
      ]
    },
    {
      "cell_type": "code",
      "source": [
        "X_train, X_test, y_train, y_test = train_test_split(X, Y, random_state = 42, test_size = 0.3)"
      ],
      "metadata": {
        "id": "VkW--qDkeSgC"
      },
      "execution_count": 55,
      "outputs": []
    },
    {
      "cell_type": "code",
      "source": [
        "clf_entropy = DecisionTreeClassifier(criterion='entropy', random_state=100,\n",
        "                                   max_depth=3, min_samples_leaf=5)"
      ],
      "metadata": {
        "id": "oE7gxHF4eUwm"
      },
      "execution_count": 56,
      "outputs": []
    },
    {
      "cell_type": "code",
      "source": [
        "clf_entropy.fit(X_train, y_train)"
      ],
      "metadata": {
        "colab": {
          "base_uri": "https://localhost:8080/",
          "height": 92
        },
        "id": "dQ9toUikeXL8",
        "outputId": "9b6d4b1a-6ff3-417c-cb62-80d2d1b2c2b3"
      },
      "execution_count": 57,
      "outputs": [
        {
          "output_type": "execute_result",
          "data": {
            "text/plain": [
              "DecisionTreeClassifier(criterion='entropy', max_depth=3, min_samples_leaf=5,\n",
              "                       random_state=100)"
            ],
            "text/html": [
              "<style>#sk-container-id-1 {color: black;background-color: white;}#sk-container-id-1 pre{padding: 0;}#sk-container-id-1 div.sk-toggleable {background-color: white;}#sk-container-id-1 label.sk-toggleable__label {cursor: pointer;display: block;width: 100%;margin-bottom: 0;padding: 0.3em;box-sizing: border-box;text-align: center;}#sk-container-id-1 label.sk-toggleable__label-arrow:before {content: \"▸\";float: left;margin-right: 0.25em;color: #696969;}#sk-container-id-1 label.sk-toggleable__label-arrow:hover:before {color: black;}#sk-container-id-1 div.sk-estimator:hover label.sk-toggleable__label-arrow:before {color: black;}#sk-container-id-1 div.sk-toggleable__content {max-height: 0;max-width: 0;overflow: hidden;text-align: left;background-color: #f0f8ff;}#sk-container-id-1 div.sk-toggleable__content pre {margin: 0.2em;color: black;border-radius: 0.25em;background-color: #f0f8ff;}#sk-container-id-1 input.sk-toggleable__control:checked~div.sk-toggleable__content {max-height: 200px;max-width: 100%;overflow: auto;}#sk-container-id-1 input.sk-toggleable__control:checked~label.sk-toggleable__label-arrow:before {content: \"▾\";}#sk-container-id-1 div.sk-estimator input.sk-toggleable__control:checked~label.sk-toggleable__label {background-color: #d4ebff;}#sk-container-id-1 div.sk-label input.sk-toggleable__control:checked~label.sk-toggleable__label {background-color: #d4ebff;}#sk-container-id-1 input.sk-hidden--visually {border: 0;clip: rect(1px 1px 1px 1px);clip: rect(1px, 1px, 1px, 1px);height: 1px;margin: -1px;overflow: hidden;padding: 0;position: absolute;width: 1px;}#sk-container-id-1 div.sk-estimator {font-family: monospace;background-color: #f0f8ff;border: 1px dotted black;border-radius: 0.25em;box-sizing: border-box;margin-bottom: 0.5em;}#sk-container-id-1 div.sk-estimator:hover {background-color: #d4ebff;}#sk-container-id-1 div.sk-parallel-item::after {content: \"\";width: 100%;border-bottom: 1px solid gray;flex-grow: 1;}#sk-container-id-1 div.sk-label:hover label.sk-toggleable__label {background-color: #d4ebff;}#sk-container-id-1 div.sk-serial::before {content: \"\";position: absolute;border-left: 1px solid gray;box-sizing: border-box;top: 0;bottom: 0;left: 50%;z-index: 0;}#sk-container-id-1 div.sk-serial {display: flex;flex-direction: column;align-items: center;background-color: white;padding-right: 0.2em;padding-left: 0.2em;position: relative;}#sk-container-id-1 div.sk-item {position: relative;z-index: 1;}#sk-container-id-1 div.sk-parallel {display: flex;align-items: stretch;justify-content: center;background-color: white;position: relative;}#sk-container-id-1 div.sk-item::before, #sk-container-id-1 div.sk-parallel-item::before {content: \"\";position: absolute;border-left: 1px solid gray;box-sizing: border-box;top: 0;bottom: 0;left: 50%;z-index: -1;}#sk-container-id-1 div.sk-parallel-item {display: flex;flex-direction: column;z-index: 1;position: relative;background-color: white;}#sk-container-id-1 div.sk-parallel-item:first-child::after {align-self: flex-end;width: 50%;}#sk-container-id-1 div.sk-parallel-item:last-child::after {align-self: flex-start;width: 50%;}#sk-container-id-1 div.sk-parallel-item:only-child::after {width: 0;}#sk-container-id-1 div.sk-dashed-wrapped {border: 1px dashed gray;margin: 0 0.4em 0.5em 0.4em;box-sizing: border-box;padding-bottom: 0.4em;background-color: white;}#sk-container-id-1 div.sk-label label {font-family: monospace;font-weight: bold;display: inline-block;line-height: 1.2em;}#sk-container-id-1 div.sk-label-container {text-align: center;}#sk-container-id-1 div.sk-container {/* jupyter's `normalize.less` sets `[hidden] { display: none; }` but bootstrap.min.css set `[hidden] { display: none !important; }` so we also need the `!important` here to be able to override the default hidden behavior on the sphinx rendered scikit-learn.org. See: https://github.com/scikit-learn/scikit-learn/issues/21755 */display: inline-block !important;position: relative;}#sk-container-id-1 div.sk-text-repr-fallback {display: none;}</style><div id=\"sk-container-id-1\" class=\"sk-top-container\"><div class=\"sk-text-repr-fallback\"><pre>DecisionTreeClassifier(criterion=&#x27;entropy&#x27;, max_depth=3, min_samples_leaf=5,\n",
              "                       random_state=100)</pre><b>In a Jupyter environment, please rerun this cell to show the HTML representation or trust the notebook. <br />On GitHub, the HTML representation is unable to render, please try loading this page with nbviewer.org.</b></div><div class=\"sk-container\" hidden><div class=\"sk-item\"><div class=\"sk-estimator sk-toggleable\"><input class=\"sk-toggleable__control sk-hidden--visually\" id=\"sk-estimator-id-1\" type=\"checkbox\" checked><label for=\"sk-estimator-id-1\" class=\"sk-toggleable__label sk-toggleable__label-arrow\">DecisionTreeClassifier</label><div class=\"sk-toggleable__content\"><pre>DecisionTreeClassifier(criterion=&#x27;entropy&#x27;, max_depth=3, min_samples_leaf=5,\n",
              "                       random_state=100)</pre></div></div></div></div></div>"
            ]
          },
          "metadata": {},
          "execution_count": 57
        }
      ]
    },
    {
      "cell_type": "code",
      "source": [
        "y_pred_en = clf_entropy.predict(X_test)"
      ],
      "metadata": {
        "id": "v0R377SzeaAm"
      },
      "execution_count": 58,
      "outputs": []
    },
    {
      "cell_type": "code",
      "source": [
        "print(y_pred_en)\n",
        "print(y_test)"
      ],
      "metadata": {
        "colab": {
          "base_uri": "https://localhost:8080/"
        },
        "id": "zM3SJ1V7edI4",
        "outputId": "daf1f9a8-53b5-4a69-9b56-ce0b0159015c"
      },
      "execution_count": 59,
      "outputs": [
        {
          "output_type": "stream",
          "name": "stdout",
          "text": [
            "[['No' 'No']\n",
            " ['No' 'No']\n",
            " ['Yes' 'No']\n",
            " ...\n",
            " ['No' 'No']\n",
            " ['Yes' 'No']\n",
            " ['Yes' 'No']]\n",
            "[['No' 'Yes']\n",
            " ['No' 'No']\n",
            " ['Yes' 'No']\n",
            " ...\n",
            " ['No' 'No']\n",
            " ['Yes' 'No']\n",
            " ['Yes' 'No']]\n"
          ]
        }
      ]
    },
    {
      "cell_type": "markdown",
      "source": [
        "This code calculates and prints the Hamming Loss and Jaccard Score for each output column (label) in a multi-label classification problem, providing insights into the performance of the classifier for each individual label."
      ],
      "metadata": {
        "id": "alNa-4rQgDGq"
      }
    },
    {
      "cell_type": "code",
      "source": [
        "# Calculate Hamming Loss for each output column\n",
        "hamming_loss_values = [round(hamming_loss(y_test[:, i], y_pred_en[:, i]) * 100, 2) for i in range(y_test.shape[1])]\n",
        "print(\"Hamming Loss:\", hamming_loss_values)\n",
        "\n",
        "# Calculate Jaccard Score for each output column\n",
        "jaccard_score_values = [round(jaccard_score(y_test[:, i], y_pred_en[:, i], average='micro') * 100, 2) for i in range(y_test.shape[1])]\n",
        "print(\"Jaccard Score:\", jaccard_score_values)\n"
      ],
      "metadata": {
        "colab": {
          "base_uri": "https://localhost:8080/"
        },
        "id": "MqLlsCFKejz-",
        "outputId": "36a1ca6b-ce7c-45f3-8425-110bf22bc77f"
      },
      "execution_count": 64,
      "outputs": [
        {
          "output_type": "stream",
          "name": "stdout",
          "text": [
            "Hamming Loss: [0.01, 17.8]\n",
            "Jaccard Score: [99.99, 69.78]\n"
          ]
        }
      ]
    }
  ]
}